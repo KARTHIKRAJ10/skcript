{
 "cells": [
  {
   "cell_type": "code",
   "execution_count": 1,
   "metadata": {},
   "outputs": [
    {
     "data": {
      "text/plain": [
       "172820"
      ]
     },
     "execution_count": 1,
     "metadata": {},
     "output_type": "execute_result"
    }
   ],
   "source": [
    "path = 'dicttext.txt'\n",
    "f = open(path)\n",
    "lines = [x.rstrip() for x in open(path)]\n",
    "len(lines)\n"
   ]
  },
  {
   "cell_type": "code",
   "execution_count": 2,
   "metadata": {},
   "outputs": [
    {
     "name": "stdout",
     "output_type": "stream",
     "text": [
      "enter the inputuruqrnytrois\n",
      "turquois\n"
     ]
    }
   ],
   "source": [
    "class find:  \n",
    "    \n",
    "    def __init__(self, name):  \n",
    "        self.source = name\n",
    "        self.input=input(\"enter the input\") \n",
    "    def getdis(self):\n",
    "        dis={}\n",
    "        for i in self.source:\n",
    "          l=len(i)\n",
    "          if l in dis.keys():\n",
    "                dis[l].append(i)\n",
    "          else:\n",
    "                dis[l]=[]\n",
    "                dis[l].append(i)\n",
    "        return dis\n",
    "    def sort(self,diss):\n",
    "        dis2={}\n",
    "        l=list(diss.keys())\n",
    "        for ll in sorted(l,reverse=True):\n",
    "            dis2[ll]=diss[ll]\n",
    "        return dis2\n",
    "    def quecount(self,inp2):\n",
    "        qc=0\n",
    "        for i in inp2:\n",
    "            if i==\"?\":\n",
    "                qc+=1\n",
    "        return qc\n",
    "    def answer(self):\n",
    "        ans=[]\n",
    "        v=self.getdis()\n",
    "        dis=self.sort(v)\n",
    "        qc=self.quecount(self.input)\n",
    "        for i in dis.keys():\n",
    "            for j in dis[i]:\n",
    "                inp3=list(self.input)\n",
    "                #print(inp3)\n",
    "                count=0\n",
    "                if len(j)<=len(inp3):\n",
    "                      for le in j:\n",
    "                            if le in inp3:\n",
    "                                  count+=1\n",
    "                                  inp3.remove(le)\n",
    "                            else:\n",
    "                                  pass\n",
    "                      if count== len(j):\n",
    "                            ans.append(j)\n",
    "                            break\n",
    "                      elif len(j)-count<=qc:\n",
    "                            ans.append(j)\n",
    "        return ans\n",
    "path = 'dicttext.txt'\n",
    "f = open(path)\n",
    "lines = [x.rstrip() for x in open(path)]\n",
    "len(lines)\n",
    "\n",
    "p = find(lines)  \n",
    "p.getdis()\n",
    "final=p.answer()\n",
    "print(final[0])\n"
   ]
  }
 ],
 "metadata": {
  "kernelspec": {
   "display_name": "Python 3",
   "language": "python",
   "name": "python3"
  },
  "language_info": {
   "codemirror_mode": {
    "name": "ipython",
    "version": 3
   },
   "file_extension": ".py",
   "mimetype": "text/x-python",
   "name": "python",
   "nbconvert_exporter": "python",
   "pygments_lexer": "ipython3",
   "version": "3.6.4"
  }
 },
 "nbformat": 4,
 "nbformat_minor": 2
}
